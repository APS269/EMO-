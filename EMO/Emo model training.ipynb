{
 "cells": [
  {
   "cell_type": "code",
   "execution_count": 1,
   "id": "947a3f83",
   "metadata": {},
   "outputs": [
    {
     "name": "stdout",
     "output_type": "stream",
     "text": [
      "     tweet_id   sentiment                                            content\n",
      "0  1956967341       empty  @tiffanylue i know  i was listenin to bad habi...\n",
      "1  1956967666     sadness  Layin n bed with a headache  ughhhh...waitin o...\n",
      "2  1956967696     sadness                Funeral ceremony...gloomy friday...\n",
      "3  1956967789  enthusiasm               wants to hang out with friends SOON!\n",
      "4  1956968416     neutral  @dannycastillo We want to trade with someone w...\n",
      "5  1956968477       worry  Re-pinging @ghostridah14: why didn't you go to...\n",
      "6  1956968487     sadness  I should be sleep, but im not! thinking about ...\n",
      "7  1956968636       worry               Hmmm. http://www.djhero.com/ is down\n",
      "8  1956969035     sadness            @charviray Charlene my love. I miss you\n",
      "9  1956969172     sadness         @kelcouch I'm sorry  at least it's Friday?\n"
     ]
    }
   ],
   "source": [
    "\n",
    "\n",
    "import pandas as pd\n",
    "\n",
    "data = pd.read_csv('tweet_emotions.csv')  \n",
    "\n",
    "print(data.head(10))\n"
   ]
  },
  {
   "cell_type": "code",
   "execution_count": 2,
   "id": "abd9807a",
   "metadata": {},
   "outputs": [
    {
     "name": "stderr",
     "output_type": "stream",
     "text": [
      "[nltk_data] Downloading package stopwords to\n",
      "[nltk_data]     C:\\Users\\Asus\\AppData\\Roaming\\nltk_data...\n",
      "[nltk_data]   Package stopwords is already up-to-date!\n"
     ]
    },
    {
     "name": "stdout",
     "output_type": "stream",
     "text": [
      "0    tiffanylue know listenin bad habit earlier sta...\n",
      "1               layin n bed headache ughhhhwaitin call\n",
      "2                        funeral ceremonygloomy friday\n",
      "3                              wants hang friends soon\n",
      "4    dannycastillo want trade someone houston ticke...\n",
      "Name: cleaned_text, dtype: object\n"
     ]
    }
   ],
   "source": [
    "# Module 2: Data Preprocessing\n",
    "\n",
    "import re\n",
    "import nltk\n",
    "from nltk.corpus import stopwords\n",
    "from nltk.tokenize import word_tokenize\n",
    "\n",
    "nltk.download('stopwords')\n",
    "\n",
    "def clean_text(text):\n",
    "    text = text.lower()  \n",
    "    text = re.sub(r'[^a-zA-Z\\s]', '', text)  \n",
    "    text = ' '.join([word for word in word_tokenize(text) if word not in stopwords.words('english')])  \n",
    "    return text\n",
    "\n",
    "\n",
    "data['cleaned_text'] = data['content'].apply(clean_text)\n",
    "\n",
    "\n",
    "print(data['cleaned_text'].head())\n"
   ]
  },
  {
   "cell_type": "code",
   "execution_count": 3,
   "id": "594076ed",
   "metadata": {},
   "outputs": [
    {
     "name": "stdout",
     "output_type": "stream",
     "text": [
      "Accuracy: 0.344875\n",
      "              precision    recall  f1-score   support\n",
      "\n",
      "       anger       0.00      0.00      0.00        19\n",
      "     boredom       0.00      0.00      0.00        31\n",
      "       empty       0.00      0.00      0.00       162\n",
      "  enthusiasm       0.00      0.00      0.00       163\n",
      "         fun       0.12      0.02      0.03       338\n",
      "   happiness       0.31      0.38      0.34      1028\n",
      "        hate       0.42      0.19      0.27       268\n",
      "        love       0.48      0.38      0.43       762\n",
      "     neutral       0.33      0.56      0.42      1740\n",
      "      relief       0.35      0.02      0.04       352\n",
      "     sadness       0.35      0.23      0.28      1046\n",
      "    surprise       0.36      0.04      0.08       425\n",
      "       worry       0.34      0.46      0.39      1666\n",
      "\n",
      "    accuracy                           0.34      8000\n",
      "   macro avg       0.24      0.18      0.17      8000\n",
      "weighted avg       0.33      0.34      0.31      8000\n",
      "\n"
     ]
    },
    {
     "name": "stderr",
     "output_type": "stream",
     "text": [
      "C:\\Users\\Asus\\AppData\\Roaming\\Python\\Python311\\site-packages\\sklearn\\metrics\\_classification.py:1469: UndefinedMetricWarning: Precision and F-score are ill-defined and being set to 0.0 in labels with no predicted samples. Use `zero_division` parameter to control this behavior.\n",
      "  _warn_prf(average, modifier, msg_start, len(result))\n",
      "C:\\Users\\Asus\\AppData\\Roaming\\Python\\Python311\\site-packages\\sklearn\\metrics\\_classification.py:1469: UndefinedMetricWarning: Precision and F-score are ill-defined and being set to 0.0 in labels with no predicted samples. Use `zero_division` parameter to control this behavior.\n",
      "  _warn_prf(average, modifier, msg_start, len(result))\n",
      "C:\\Users\\Asus\\AppData\\Roaming\\Python\\Python311\\site-packages\\sklearn\\metrics\\_classification.py:1469: UndefinedMetricWarning: Precision and F-score are ill-defined and being set to 0.0 in labels with no predicted samples. Use `zero_division` parameter to control this behavior.\n",
      "  _warn_prf(average, modifier, msg_start, len(result))\n"
     ]
    }
   ],
   "source": [
    "# Module 3: Model Building\n",
    "\n",
    "from sklearn.model_selection import train_test_split\n",
    "from sklearn.feature_extraction.text import TfidfVectorizer\n",
    "from sklearn.svm import SVC\n",
    "from sklearn.metrics import accuracy_score, classification_report\n",
    "\n",
    "\n",
    "X = data['cleaned_text']\n",
    "y = data['sentiment']\n",
    "X_train, X_test, y_train, y_test = train_test_split(X, y, test_size=0.2, random_state=42)\n",
    "\n",
    "\n",
    "tfidf_vectorizer = TfidfVectorizer(max_features=5000)\n",
    "X_train_tfidf = tfidf_vectorizer.fit_transform(X_train)\n",
    "X_test_tfidf = tfidf_vectorizer.transform(X_test)\n",
    "\n",
    "\n",
    "svm_classifier = SVC(kernel='linear', C=1.0)\n",
    "svm_classifier.fit(X_train_tfidf, y_train)\n",
    "\n",
    "\n",
    "y_pred = svm_classifier.predict(X_test_tfidf)\n",
    "\n",
    "\n",
    "accuracy = accuracy_score(y_test, y_pred)\n",
    "print(f'Accuracy: {accuracy}')\n",
    "print(classification_report(y_test, y_pred))\n"
   ]
  },
  {
   "cell_type": "code",
   "execution_count": 10,
   "id": "559ac3fe",
   "metadata": {},
   "outputs": [
    {
     "name": "stdout",
     "output_type": "stream",
     "text": [
      "Predicted Emotion: worry\n"
     ]
    }
   ],
   "source": [
    "# Module 4: Inference\n",
    "\n",
    "def analyze_emotion(text, model, vectorizer):\n",
    "    cleaned_text = clean_text(text)\n",
    "    tfidf_text = vectorizer.transform([cleaned_text])\n",
    "    emotion = model.predict(tfidf_text)[0]\n",
    "    return emotion\n",
    "\n",
    "\n",
    "text_to_analyze = \"I feel happy today\"\n",
    "predicted_emotion = analyze_emotion(text_to_analyze, svm_classifier, tfidf_vectorizer)\n",
    "print(f'Predicted Emotion: {predicted_emotion}')\n"
   ]
  },
  {
   "cell_type": "code",
   "execution_count": 7,
   "id": "2bdc7886",
   "metadata": {},
   "outputs": [
    {
     "name": "stdout",
     "output_type": "stream",
     "text": [
      "Predicted Emotion: Unsupported Language: Currently, the emotional analyzer only supports English text.\n"
     ]
    }
   ],
   "source": [
    "from langdetect import detect\n",
    "\n",
    "def analyze_emotion(text, model, vectorizer):\n",
    "    # Detect the language of the input text\n",
    "    detected_language = detect(text)\n",
    "    \n",
    "    if detected_language != 'en':\n",
    "        return \"Unsupported Language: Currently, the emotional analyzer only supports English text.\"\n",
    "\n",
    "    cleaned_text = clean_text(text)\n",
    "    tfidf_text = vectorizer.transform([cleaned_text])\n",
    "    emotion = model.predict(tfidf_text)[0]\n",
    "    return emotion\n",
    "\n",
    "# Example usage\n",
    "text_to_analyze = \"I am sad today\"  # Example non-English input\n",
    "predicted_emotion = analyze_emotion(text_to_analyze, svm_classifier, tfidf_vectorizer)\n",
    "print(f'Predicted Emotion: {predicted_emotion}')"
   ]
  },
  {
   "cell_type": "code",
   "execution_count": null,
   "id": "b995b2bb",
   "metadata": {},
   "outputs": [],
   "source": []
  },
  {
   "cell_type": "code",
   "execution_count": null,
   "id": "d964dcf3",
   "metadata": {},
   "outputs": [],
   "source": []
  }
 ],
 "metadata": {
  "kernelspec": {
   "display_name": "Python 3 (ipykernel)",
   "language": "python",
   "name": "python3"
  },
  "language_info": {
   "codemirror_mode": {
    "name": "ipython",
    "version": 3
   },
   "file_extension": ".py",
   "mimetype": "text/x-python",
   "name": "python",
   "nbconvert_exporter": "python",
   "pygments_lexer": "ipython3",
   "version": "3.11.3"
  }
 },
 "nbformat": 4,
 "nbformat_minor": 5
}
